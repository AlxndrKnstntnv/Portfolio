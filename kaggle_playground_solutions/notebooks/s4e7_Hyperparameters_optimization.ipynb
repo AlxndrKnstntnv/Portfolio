{
 "cells": [
  {
   "cell_type": "code",
   "execution_count": null,
   "metadata": {},
   "outputs": [],
   "source": [
    "! pip install catboost\n",
    "! pip install optuna"
   ]
  },
  {
   "cell_type": "code",
   "execution_count": null,
   "metadata": {},
   "outputs": [],
   "source": [
    "import pandas as pd\n",
    "import numpy as np\n",
    "from sklearn.preprocessing import StandardScaler\n",
    "import optuna\n",
    "from catboost import CatBoostClassifier\n",
    "from sklearn.model_selection import train_test_split\n",
    "from sklearn.metrics import roc_auc_score\n",
    "from xgboost import XGBClassifier\n",
    "from imblearn.under_sampling import RandomUnderSampler\n",
    "\n",
    "warnings.filterwarnings('ignore')"
   ]
  },
  {
   "cell_type": "code",
   "execution_count": 14,
   "metadata": {},
   "outputs": [],
   "source": [
    "train = pd.read_csv('train_processed.csv')"
   ]
  },
  {
   "cell_type": "code",
   "execution_count": 15,
   "metadata": {},
   "outputs": [],
   "source": [
    "tr1 = train[['Age', 'Annual_Premium', 'Policy_Sales_Channel', 'Vintage', 'Region_Code']]\n",
    "tr2 = train.drop(['Age', 'Annual_Premium', 'Policy_Sales_Channel', 'Vintage', 'Region_Code'], axis=1)\n",
    "scaler = StandardScaler()\n",
    "tr1 = scaler.fit_transform(tr1)\n",
    "y = tr2['Response'].to_numpy()\n",
    "train = np.hstack((tr1, tr2.drop(['Response'], axis=1).to_numpy()))\n",
    "X = train.copy()\n",
    "train, tr1, tr2 = 0, 0, 0"
   ]
  },
  {
   "cell_type": "code",
   "execution_count": 23,
   "metadata": {},
   "outputs": [],
   "source": [
    "X_train, X_test, y_train, y_test = train_test_split(X, y, test_size=0.2, random_state=42)\n",
    "X_train, y_train = RandomUnderSampler(sampling_strategy='majority', random_state=1).fit_resample(X_train, y_train)"
   ]
  },
  {
   "cell_type": "code",
   "execution_count": null,
   "metadata": {},
   "outputs": [],
   "source": [
    "def objective_catboost(trial):\n",
    "    params = {\n",
    "        'iterations': trial.suggest_int('iterations', 100, 1000),\n",
    "        'depth': trial.suggest_int('depth', 4, 10),\n",
    "        'learning_rate': trial.suggest_loguniform('learning_rate', 1e-3, 1e-1),\n",
    "        'l2_leaf_reg': trial.suggest_loguniform('l2_leaf_reg', 1e-2, 10),\n",
    "        'border_count': trial.suggest_int('border_count', 32, 255),\n",
    "        'bagging_temperature': trial.suggest_loguniform('bagging_temperature', 0.01, 1.0),\n",
    "        'random_strength': trial.suggest_loguniform('random_strength', 1e-2, 10)\n",
    "    }\n",
    "\n",
    "    model = CatBoostClassifier(**params, verbose=0, random_state=42)\n",
    "    fitted = model.fit(X_train, y_train, eval_set=(X_test, y_test), early_stopping_rounds=30, verbose=0) \n",
    "    y_pred = model.predict(X_test)\n",
    "    score = roc_auc_score(y_test, y_pred) \n",
    "    return score\n",
    "\n",
    "def objective_xgboost(trial):\n",
    "    params = {\n",
    "        'n_estimators': trial.suggest_int('n_estimators', 200, 500),\n",
    "        'max_depth': trial.suggest_int('max_depth', 2, 10),\n",
    "        'learning_rate': trial.suggest_loguniform('learning_rate', 0.1, 0.3),\n",
    "        'subsample': trial.suggest_float('subsample', 0.5, 1.0),\n",
    "        'colsample_bytree': trial.suggest_float('colsample_bytree', 0.5, 1.0),\n",
    "        'gamma': trial.suggest_loguniform('gamma', 1e-8, 1.0),\n",
    "        'min_child_weight': trial.suggest_int('min_child_weight', 1, 10),\n",
    "        'reg_alpha': trial.suggest_loguniform('reg_alpha', 1e-8, 1.0),\n",
    "        'reg_lambda': trial.suggest_loguniform('reg_lambda', 1e-8, 1.0)\n",
    "    }\n",
    "    \n",
    "    model = XGBClassifier(**params, use_label_encoder=False, eval_metric='logloss')\n",
    "    fitted = model.fit(X_train, y_train)\n",
    "    y_pred = model.predict(X_test)\n",
    "    score = roc_auc_score(y_test, y_pred)\n",
    "    return score"
   ]
  },
  {
   "cell_type": "code",
   "execution_count": null,
   "metadata": {},
   "outputs": [],
   "source": [
    "def objective_catboost(trial):\n",
    "    params = {\n",
    "        'iterations': trial.suggest_int('iterations', 100, 1000),\n",
    "        'depth': trial.suggest_int('depth', 4, 10),\n",
    "        'learning_rate': trial.suggest_loguniform('learning_rate', 1e-3, 1e-1),\n",
    "        'l2_leaf_reg': trial.suggest_loguniform('l2_leaf_reg', 1e-2, 10),\n",
    "        'border_count': trial.suggest_int('border_count', 32, 255),\n",
    "        'bagging_temperature': trial.suggest_loguniform('bagging_temperature', 0.01, 1.0),\n",
    "        'random_strength': trial.suggest_loguniform('random_strength', 1e-2, 10)\n",
    "    }\n",
    "\n",
    "    model = CatBoostClassifier(**params, verbose=0, random_state=42)\n",
    "    fitted = model.fit(X_train, y_train, eval_set=(X_test, y_test), early_stopping_rounds=30, verbose=0) \n",
    "    y_pred = model.predict(X_test)\n",
    "    score = roc_auc_score(y_test, y_pred) \n",
    "    return score\n",
    "\n",
    "def objective_xgboost(trial):\n",
    "    params = {\n",
    "        'n_estimators': trial.suggest_int('n_estimators', 200, 500),\n",
    "        'max_depth': trial.suggest_int('max_depth', 2, 10),\n",
    "        'learning_rate': trial.suggest_loguniform('learning_rate', 0.1, 0.3),\n",
    "        'subsample': trial.suggest_float('subsample', 0.5, 1.0),\n",
    "        'colsample_bytree': trial.suggest_float('colsample_bytree', 0.5, 1.0),\n",
    "        'gamma': trial.suggest_loguniform('gamma', 1e-8, 1.0),\n",
    "        'min_child_weight': trial.suggest_int('min_child_weight', 1, 10),\n",
    "        'reg_alpha': trial.suggest_loguniform('reg_alpha', 1e-8, 1.0),\n",
    "        'reg_lambda': trial.suggest_loguniform('reg_lambda', 1e-8, 1.0)\n",
    "    }\n",
    "    \n",
    "    model = XGBClassifier(**params, use_label_encoder=False, eval_metric='logloss')\n",
    "    fitted = model.fit(X_train, y_train)\n",
    "    y_pred = model.predict(X_test)\n",
    "    score = roc_auc_score(y_test, y_pred)\n",
    "    return score"
   ]
  },
  {
   "cell_type": "code",
   "execution_count": null,
   "metadata": {},
   "outputs": [],
   "source": [
    "# Оптимизация гиперпараметров CatBoost\n",
    "study = optuna.create_study(direction='maximize')\n",
    "study.optimize(objective_catboost, n_trials=100)\n",
    "catboost_params = study.best_params"
   ]
  },
  {
   "cell_type": "code",
   "execution_count": null,
   "metadata": {},
   "outputs": [],
   "source": [
    "# Оптимизация гиперпараметров xgboost\n",
    "study2 = optuna.create_study(direction='maximize')\n",
    "study2.optimize(objective_xgboost, n_trials=100)\n",
    "xgboost_params = study2.best_params"
   ]
  },
  {
   "cell_type": "code",
   "execution_count": null,
   "metadata": {},
   "outputs": [],
   "source": [
    "X, y = RandomUnderSampler(sampling_strategy='majority', random_state=1).fit_resample(X, y)"
   ]
  },
  {
   "cell_type": "code",
   "execution_count": null,
   "metadata": {},
   "outputs": [],
   "source": [
    "catboost_model = CatBoostClassifier(**catboost_params, random_state=42)\n",
    "catboost_model.fit(X, y, verbose=0)"
   ]
  },
  {
   "cell_type": "code",
   "execution_count": null,
   "metadata": {},
   "outputs": [],
   "source": [
    "xgboost_model = XGBClassifier(**xgboost_params, use_label_encoder=False, eval_metric='logloss')\n",
    "xgboost_model.fit(X, y)"
   ]
  }
 ],
 "metadata": {
  "kernelspec": {
   "display_name": "Python 3",
   "language": "python",
   "name": "python3"
  },
  "language_info": {
   "codemirror_mode": {
    "name": "ipython",
    "version": 3
   },
   "file_extension": ".py",
   "mimetype": "text/x-python",
   "name": "python",
   "nbconvert_exporter": "python",
   "pygments_lexer": "ipython3",
   "version": "3.12.0"
  }
 },
 "nbformat": 4,
 "nbformat_minor": 2
}
